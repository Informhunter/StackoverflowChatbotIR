{
 "cells": [
  {
   "cell_type": "code",
   "execution_count": 7,
   "metadata": {},
   "outputs": [],
   "source": [
    "import re\n",
    "import numpy as np\n",
    "from nltk.corpus import stopwords"
   ]
  },
  {
   "cell_type": "markdown",
   "metadata": {},
   "source": [
    "# Load Embeddings"
   ]
  },
  {
   "cell_type": "code",
   "execution_count": 8,
   "metadata": {},
   "outputs": [],
   "source": [
    "from sklearn.preprocessing import normalize"
   ]
  },
  {
   "cell_type": "code",
   "execution_count": 9,
   "metadata": {},
   "outputs": [],
   "source": [
    "def load_starspace(file):\n",
    "    result = {}\n",
    "    for line in file:\n",
    "        word, *emb = line.rstrip().split('\\t')\n",
    "        result[word] = np.array([float(x) for x in emb], dtype='float32')\n",
    "    return result"
   ]
  },
  {
   "cell_type": "code",
   "execution_count": 11,
   "metadata": {},
   "outputs": [],
   "source": [
    "with open('../embeddings/starspace.emb.tsv', encoding='utf-8') as f:\n",
    "    starspace_emb = load_starspace(f)"
   ]
  },
  {
   "cell_type": "code",
   "execution_count": 12,
   "metadata": {},
   "outputs": [],
   "source": [
    "token_re = re.compile(r'([a-zA-Z$#][\\.\\-]*[0-9a-zA-Z\\.\\-$#]*[0-9a-zA-Z$#])')"
   ]
  },
  {
   "cell_type": "code",
   "execution_count": 13,
   "metadata": {},
   "outputs": [],
   "source": [
    "stop_en = stopwords.words('english')"
   ]
  },
  {
   "cell_type": "code",
   "execution_count": 14,
   "metadata": {},
   "outputs": [],
   "source": [
    "def process_text(text):\n",
    "    words = token_re.findall(text.lower())\n",
    "    return [w for w in words if not w in stop_en]"
   ]
  },
  {
   "cell_type": "code",
   "execution_count": 15,
   "metadata": {},
   "outputs": [],
   "source": [
    "def text_to_emb(text, emb, emb_shape=100):\n",
    "    tokens = process_text(text)\n",
    "    embs = np.array([emb[token] for token in tokens if token in emb])\n",
    "    if embs.shape[0] != 0:\n",
    "        return normalize(np.mean(embs, axis=0).reshape(1, -1))[0]\n",
    "    else:\n",
    "        return np.zeros((emb_shape,))\n",
    "    "
   ]
  },
  {
   "cell_type": "markdown",
   "metadata": {},
   "source": [
    "# Generate Post Embeddings"
   ]
  },
  {
   "cell_type": "code",
   "execution_count": 16,
   "metadata": {},
   "outputs": [],
   "source": [
    "import sqlite3\n",
    "import pickle\n",
    "from tqdm import tqdm_notebook"
   ]
  },
  {
   "cell_type": "code",
   "execution_count": 17,
   "metadata": {},
   "outputs": [],
   "source": [
    "con = sqlite3.connect('../data/original/filtered_posts.db')"
   ]
  },
  {
   "cell_type": "code",
   "execution_count": 18,
   "metadata": {},
   "outputs": [],
   "source": [
    "cur = con.cursor()"
   ]
  },
  {
   "cell_type": "code",
   "execution_count": 19,
   "metadata": {},
   "outputs": [
    {
     "data": {
      "text/plain": [
       "[(856648,)]"
      ]
     },
     "execution_count": 19,
     "metadata": {},
     "output_type": "execute_result"
    }
   ],
   "source": [
    "list(cur.execute('select count(*) from Posts where Score > 3;'))"
   ]
  },
  {
   "cell_type": "code",
   "execution_count": null,
   "metadata": {},
   "outputs": [],
   "source": [
    "ids = [ids]"
   ]
  },
  {
   "cell_type": "code",
   "execution_count": 19,
   "metadata": {},
   "outputs": [
    {
     "data": {
      "application/vnd.jupyter.widget-view+json": {
       "model_id": "d5e15e9640604720b17a5cc45f3ae194",
       "version_major": 2,
       "version_minor": 0
      },
      "text/plain": [
       "HBox(children=(IntProgress(value=1, bar_style='info', max=1), HTML(value='')))"
      ]
     },
     "metadata": {},
     "output_type": "display_data"
    },
    {
     "name": "stdout",
     "output_type": "stream",
     "text": [
      "\n"
     ]
    }
   ],
   "source": [
    "ids_titles = []\n",
    "for post_id, title in tqdm_notebook(cur.execute('select Id, Title from Posts where Score > 3;')):\n",
    "    ids_titles.append((post_id, title))"
   ]
  },
  {
   "cell_type": "code",
   "execution_count": 20,
   "metadata": {},
   "outputs": [
    {
     "data": {
      "application/vnd.jupyter.widget-view+json": {
       "model_id": "117a6ae2e19d466e8088e8bd9348a892",
       "version_major": 2,
       "version_minor": 0
      },
      "text/plain": [
       "HBox(children=(IntProgress(value=1, bar_style='info', max=1), HTML(value='')))"
      ]
     },
     "metadata": {},
     "output_type": "display_data"
    },
    {
     "name": "stdout",
     "output_type": "stream",
     "text": [
      "\n"
     ]
    }
   ],
   "source": [
    "post_embeddings = []\n",
    "for post_id, title, body in tqdm_notebook(cur.execute('selsect Id, Title, Body from Posts where Score > 3;')):\n",
    "    post_embeddings.append(text_to_emb(title + '. ' + body, starspace_emb))"
   ]
  },
  {
   "cell_type": "code",
   "execution_count": 21,
   "metadata": {},
   "outputs": [],
   "source": [
    "post_embeddings = np.array(post_embeddings)"
   ]
  },
  {
   "cell_type": "code",
   "execution_count": 22,
   "metadata": {},
   "outputs": [
    {
     "data": {
      "text/plain": [
       "(856648, 100)"
      ]
     },
     "execution_count": 22,
     "metadata": {},
     "output_type": "execute_result"
    }
   ],
   "source": [
    "post_embeddings.shape"
   ]
  },
  {
   "cell_type": "code",
   "execution_count": 23,
   "metadata": {},
   "outputs": [],
   "source": [
    "with open('../data/original/post_embeddings.pkl4', 'wb') as f:\n",
    "    pickle.dump(post_embeddings, f, protocol=4)"
   ]
  },
  {
   "cell_type": "code",
   "execution_count": 20,
   "metadata": {},
   "outputs": [],
   "source": [
    "del post_embeddings"
   ]
  },
  {
   "cell_type": "code",
   "execution_count": 20,
   "metadata": {},
   "outputs": [],
   "source": [
    "with open('../data/original/ids_titles.pkl4', 'wb') as f:\n",
    "    pickle.dump(ids_titles, f, protocol=4)"
   ]
  },
  {
   "cell_type": "code",
   "execution_count": 21,
   "metadata": {},
   "outputs": [],
   "source": [
    "ids = [x[0] for x in ids_titles]"
   ]
  },
  {
   "cell_type": "code",
   "execution_count": 22,
   "metadata": {},
   "outputs": [],
   "source": [
    "with open('../data/original/ids.pkl4', 'wb') as f:\n",
    "    pickle.dump(ids, f, protocol=4)"
   ]
  },
  {
   "cell_type": "markdown",
   "metadata": {},
   "source": [
    "# Ranking"
   ]
  },
  {
   "cell_type": "code",
   "execution_count": 9,
   "metadata": {},
   "outputs": [],
   "source": [
    "import pickle\n",
    "from sklearn.metrics.pairwise import cosine_similarity"
   ]
  },
  {
   "cell_type": "code",
   "execution_count": 10,
   "metadata": {},
   "outputs": [],
   "source": [
    "from tqdm import tqdm_notebook"
   ]
  },
  {
   "cell_type": "code",
   "execution_count": 11,
   "metadata": {},
   "outputs": [],
   "source": [
    "with open('../data/original/post_embeddings.pkl4', 'rb') as f:\n",
    "    post_embeddings = pickle.load(f)"
   ]
  },
  {
   "cell_type": "code",
   "execution_count": 23,
   "metadata": {},
   "outputs": [],
   "source": [
    "def find_similar_post(query, post_embeddings, emb):\n",
    "    query_emb = text_to_emb(query, emb).reshape(1, -1)\n",
    "    top5 = []\n",
    "    for i in range(0, post_embeddings.shape[0], 100000):\n",
    "        sims = cosine_similarity(post_embeddings[i:i + 100000], query_emb)\n",
    "        idxs = np.argpartition(sims, -5, axis=None)[-5:]\n",
    "        top5 += list(zip(idxs + i, sims[idxs]))\n",
    "        top5 = sorted(top5, key=lambda x: x[1], reverse=True)[:5]\n",
    "    return top5"
   ]
  },
  {
   "cell_type": "code",
   "execution_count": 24,
   "metadata": {},
   "outputs": [
    {
     "name": "stdout",
     "output_type": "stream",
     "text": [
      "[(356397, array([0.882248])), (67568, array([0.83382447])), (486906, array([0.81986725])), (587557, array([0.81450965])), (801499, array([0.78309313]))]\n"
     ]
    }
   ],
   "source": [
    "post_ids = find_similar_post('html change button color', post_embeddings, starspace_emb)\n",
    "print(post_ids)"
   ]
  },
  {
   "cell_type": "code",
   "execution_count": 27,
   "metadata": {},
   "outputs": [
    {
     "name": "stdout",
     "output_type": "stream",
     "text": [
      "(11176365, 'How do I change the text color of a Button?')\n",
      "(1819878, 'Changing button color programmatically')\n",
      "(17201401, 'Button text color in Extjs 4')\n",
      "(23819847, 'How to change color of a button when clicked using bootstrap?')\n",
      "(42549031, 'How to change UIDocumentInteractionController Done button text and background color')\n"
     ]
    }
   ],
   "source": [
    "for post_id in post_ids:\n",
    "    print(ids_titles[post_id[0]])"
   ]
  },
  {
   "cell_type": "markdown",
   "metadata": {},
   "source": [
    "# Trying LSH"
   ]
  },
  {
   "cell_type": "code",
   "execution_count": 48,
   "metadata": {},
   "outputs": [],
   "source": [
    "sqlite3.register_adapter(np.int64, lambda val: int(val))\n",
    "sqlite3.register_adapter(np.int32, lambda val: int(val))"
   ]
  },
  {
   "cell_type": "code",
   "execution_count": 23,
   "metadata": {},
   "outputs": [],
   "source": [
    "from sklearn.preprocessing import normalize\n",
    "from itertools import chain\n",
    "from collections import defaultdict\n",
    "import gc"
   ]
  },
  {
   "cell_type": "code",
   "execution_count": 33,
   "metadata": {},
   "outputs": [],
   "source": [
    "hash_functions = [np.random.rand(100, 20) - 0.5 for _ in range(100)]"
   ]
  },
  {
   "cell_type": "code",
   "execution_count": 34,
   "metadata": {},
   "outputs": [],
   "source": [
    "#with open('../data/original/lsh_hash_functions_100.pkl', 'wb') as f:\n",
    "#    pickle.dump(hash_functions, f)"
   ]
  },
  {
   "cell_type": "code",
   "execution_count": 35,
   "metadata": {},
   "outputs": [],
   "source": [
    "with open('../data/original/lsh_hash_functions_100.pkl', 'rb') as f:\n",
    "    hash_functions = pickle.load(f)"
   ]
  },
  {
   "cell_type": "code",
   "execution_count": 36,
   "metadata": {},
   "outputs": [],
   "source": [
    "def get_hash(hash_function, emb):\n",
    "    return (np.dot(emb, hash_function)>0).astype('int8')"
   ]
  },
  {
   "cell_type": "code",
   "execution_count": 37,
   "metadata": {},
   "outputs": [],
   "source": [
    "def get_buckets(hash_functions, emb):\n",
    "    hashes = [get_hash(hash_function, emb) for hash_function in hash_functions]\n",
    "    buckets = [h.dot(1 << np.arange(h.shape[-1] - 1, -1, -1)) for h in hashes]\n",
    "    return buckets"
   ]
  },
  {
   "cell_type": "code",
   "execution_count": 38,
   "metadata": {},
   "outputs": [],
   "source": [
    "con = sqlite3.connect('../data/original/bucket_registry_100.db')"
   ]
  },
  {
   "cell_type": "code",
   "execution_count": 39,
   "metadata": {},
   "outputs": [],
   "source": [
    "cur = con.cursor()"
   ]
  },
  {
   "cell_type": "code",
   "execution_count": 40,
   "metadata": {},
   "outputs": [
    {
     "data": {
      "text/plain": [
       "[]"
      ]
     },
     "execution_count": 40,
     "metadata": {},
     "output_type": "execute_result"
    }
   ],
   "source": [
    "list(cur.execute('create table if not exists BucketRegistry('\\\n",
    "                 'BucketId int,'\\\n",
    "                 'PostIndex int);'))"
   ]
  },
  {
   "cell_type": "code",
   "execution_count": 41,
   "metadata": {},
   "outputs": [
    {
     "data": {
      "text/plain": [
       "[]"
      ]
     },
     "execution_count": 41,
     "metadata": {},
     "output_type": "execute_result"
    }
   ],
   "source": [
    "list(cur.execute('create index if not exists bucket_bucket_id on BucketRegistry(BucketId);'))"
   ]
  },
  {
   "cell_type": "code",
   "execution_count": 42,
   "metadata": {},
   "outputs": [
    {
     "data": {
      "text/plain": [
       "0"
      ]
     },
     "execution_count": 42,
     "metadata": {},
     "output_type": "execute_result"
    }
   ],
   "source": [
    "gc.collect()"
   ]
  },
  {
   "cell_type": "code",
   "execution_count": 43,
   "metadata": {},
   "outputs": [
    {
     "data": {
      "application/vnd.jupyter.widget-view+json": {
       "model_id": "02aad3862dea480db547804d5d4d1a30",
       "version_major": 2,
       "version_minor": 0
      },
      "text/plain": [
       "HBox(children=(IntProgress(value=1, bar_style='info', max=1), HTML(value='')))"
      ]
     },
     "metadata": {},
     "output_type": "display_data"
    },
    {
     "name": "stdout",
     "output_type": "stream",
     "text": [
      "\n"
     ]
    }
   ],
   "source": [
    "for hash_index, hash_function in tqdm_notebook(enumerate(hash_functions)):\n",
    "    buckets = get_buckets([hash_function], post_embeddings)[0]\n",
    "    values = []\n",
    "    for post_index, post_bucket in enumerate(buckets):\n",
    "        values.append((int(post_bucket), int(post_index)))\n",
    "    cur.executemany('insert into BucketRegistry values(?, ?);', values)\n",
    "    con.commit()"
   ]
  },
  {
   "cell_type": "code",
   "execution_count": 55,
   "metadata": {},
   "outputs": [
    {
     "ename": "KeyboardInterrupt",
     "evalue": "",
     "output_type": "error",
     "traceback": [
      "\u001b[1;31m---------------------------------------------------------------------------\u001b[0m",
      "\u001b[1;31mKeyboardInterrupt\u001b[0m                         Traceback (most recent call last)",
      "\u001b[1;32m<ipython-input-55-87297aed62d6>\u001b[0m in \u001b[0;36m<module>\u001b[1;34m()\u001b[0m\n\u001b[0;32m      1\u001b[0m \u001b[0mbucket_registry\u001b[0m \u001b[1;33m=\u001b[0m \u001b[0mdefaultdict\u001b[0m\u001b[1;33m(\u001b[0m\u001b[0mset\u001b[0m\u001b[1;33m)\u001b[0m\u001b[1;33m\u001b[0m\u001b[1;33m\u001b[0m\u001b[0m\n\u001b[1;32m----> 2\u001b[1;33m \u001b[1;32mfor\u001b[0m \u001b[0mpost_bucket\u001b[0m\u001b[1;33m,\u001b[0m \u001b[0mpost_index\u001b[0m \u001b[1;32min\u001b[0m \u001b[0mcur\u001b[0m\u001b[1;33m.\u001b[0m\u001b[0mexecute\u001b[0m\u001b[1;33m(\u001b[0m\u001b[1;34m'select BucketId, PostIndex from BucketRegistry;'\u001b[0m\u001b[1;33m)\u001b[0m\u001b[1;33m:\u001b[0m\u001b[1;33m\u001b[0m\u001b[1;33m\u001b[0m\u001b[0m\n\u001b[0m\u001b[0;32m      3\u001b[0m     \u001b[0mbucket_registry\u001b[0m\u001b[1;33m[\u001b[0m\u001b[0mpost_bucket\u001b[0m\u001b[1;33m]\u001b[0m\u001b[1;33m.\u001b[0m\u001b[0madd\u001b[0m\u001b[1;33m(\u001b[0m\u001b[0mpost_index\u001b[0m\u001b[1;33m)\u001b[0m\u001b[1;33m\u001b[0m\u001b[1;33m\u001b[0m\u001b[0m\n",
      "\u001b[1;31mKeyboardInterrupt\u001b[0m: "
     ]
    }
   ],
   "source": [
    "bucket_registry = defaultdict(set)\n",
    "for post_bucket, post_index in cur.execute('select BucketId, PostIndex from BucketRegistry;'):\n",
    "    bucket_registry[post_bucket].add(post_index)"
   ]
  },
  {
   "cell_type": "code",
   "execution_count": 101,
   "metadata": {},
   "outputs": [],
   "source": [
    "con.close()"
   ]
  },
  {
   "cell_type": "code",
   "execution_count": 34,
   "metadata": {},
   "outputs": [],
   "source": [
    "def query_to_hash(query, hash_function, emb):\n",
    "    query_emb = text_to_emb(query, emb).reshape(1, -1)\n",
    "    return get_hash(hash_function, query_emb)"
   ]
  },
  {
   "cell_type": "code",
   "execution_count": 35,
   "metadata": {},
   "outputs": [],
   "source": [
    "def query_to_buckets(query, hash_functions, emb):\n",
    "    query_emb = text_to_emb(query, emb).reshape(1, -1)\n",
    "    buckets = get_buckets(hash_functions, query_emb)\n",
    "    return [x[0] for x in buckets]\n",
    "    "
   ]
  },
  {
   "cell_type": "code",
   "execution_count": 36,
   "metadata": {},
   "outputs": [
    {
     "data": {
      "text/plain": [
       "array([[1, 1, 0, 0, 0, 0, 0, 1, 0, 0, 1, 0, 1, 0, 1, 0, 1, 0, 1, 0]],\n",
       "      dtype=int8)"
      ]
     },
     "execution_count": 36,
     "metadata": {},
     "output_type": "execute_result"
    }
   ],
   "source": [
    "query_to_hash('python', hash_functions[0], starspace_emb)"
   ]
  },
  {
   "cell_type": "code",
   "execution_count": 37,
   "metadata": {},
   "outputs": [
    {
     "data": {
      "text/plain": [
       "array([[1, 1, 1, 1, 1, 0, 1, 1, 1, 0, 1, 1, 0, 0, 1, 0, 0, 1, 0, 0]],\n",
       "      dtype=int8)"
      ]
     },
     "execution_count": 37,
     "metadata": {},
     "output_type": "execute_result"
    }
   ],
   "source": [
    "query_to_hash('python numpy', hash_functions[0], starspace_emb)"
   ]
  },
  {
   "cell_type": "code",
   "execution_count": 38,
   "metadata": {},
   "outputs": [],
   "source": [
    "a = query_to_buckets('graph in matplotlib', hash_functions, starspace_emb)"
   ]
  },
  {
   "cell_type": "code",
   "execution_count": 39,
   "metadata": {},
   "outputs": [],
   "source": [
    "b = query_to_buckets('plot python', hash_functions, starspace_emb)"
   ]
  },
  {
   "cell_type": "code",
   "execution_count": 40,
   "metadata": {},
   "outputs": [
    {
     "data": {
      "text/plain": [
       "{1046769}"
      ]
     },
     "execution_count": 40,
     "metadata": {},
     "output_type": "execute_result"
    }
   ],
   "source": [
    "set(a)&set(b)"
   ]
  },
  {
   "cell_type": "code",
   "execution_count": 57,
   "metadata": {},
   "outputs": [],
   "source": [
    "def search_buckets_sqlite(query, hash_functions, post_embeddings, con, emb):\n",
    "    query_emb = text_to_emb(query, emb).reshape(1, -1)\n",
    "    query_buckets = query_to_buckets(query, hash_functions, emb)\n",
    "    top5 = []\n",
    "    for bucket_id in query_buckets:\n",
    "        potential_ids = con.execute('select PostIndex from BucketRegistry where BucketId = ?;', (int(bucket_id),))\n",
    "        potential_ids = set([x[0] for x in potential_ids])\n",
    "        potential_ids = list(potential_ids - set([x[0] for x in top5]))\n",
    "        sims = cosine_similarity(post_embeddings[potential_ids], query_emb)\n",
    "        top = max(-5, -len(potential_ids))\n",
    "        idxs = np.argpartition(sims, top, axis=None)[-top:]\n",
    "        idxs_ = [potential_ids[x] for x in idxs]\n",
    "        top5 += list(zip(idxs_, sims[idxs]))\n",
    "        top5 = sorted(top5, key=lambda x: x[1], reverse=True)[:5]\n",
    "    return top5"
   ]
  },
  {
   "cell_type": "code",
   "execution_count": 58,
   "metadata": {},
   "outputs": [],
   "source": [
    "def search_buckets_memory(query, hash_functions, post_embeddings, bucket_registry, emb):\n",
    "    query_emb = text_to_emb(query, emb).reshape(1, -1)\n",
    "    query_buckets = query_to_buckets(query, hash_functions, emb)\n",
    "    top5 = []\n",
    "    for bucket_id in query_buckets:\n",
    "        potential_ids = bucket_registry[bucket_id]\n",
    "        potential_ids = list(potential_ids - set([x[0] for x in top5]))\n",
    "        sims = cosine_similarity(post_embeddings[potential_ids], query_emb)\n",
    "        top = max(-5, -len(potential_ids))\n",
    "        idxs = np.argpartition(sims, top, axis=None)[-top:]\n",
    "        idxs_ = [potential_ids[x] for x in idxs]\n",
    "        top5 += list(zip(idxs_, sims[idxs]))\n",
    "        top5 = sorted(top5, key=lambda x: x[1], reverse=True)[:5]\n",
    "    return top5"
   ]
  },
  {
   "cell_type": "code",
   "execution_count": null,
   "metadata": {},
   "outputs": [],
   "source": []
  },
  {
   "cell_type": "code",
   "execution_count": null,
   "metadata": {},
   "outputs": [],
   "source": []
  },
  {
   "cell_type": "code",
   "execution_count": 44,
   "metadata": {},
   "outputs": [
    {
     "name": "stdout",
     "output_type": "stream",
     "text": [
      "[(204490, array([0.68784533])), (257587, array([0.66864631])), (248319, array([0.66469806])), (550705, array([0.65088469])), (605244, array([0.64432025]))]\n"
     ]
    }
   ],
   "source": [
    "post_ids = search_buckets_sqlite('locality sensitive hashing', hash_functions, post_embeddings, con, starspace_emb)\n",
    "print(post_ids)"
   ]
  },
  {
   "cell_type": "code",
   "execution_count": 45,
   "metadata": {},
   "outputs": [
    {
     "name": "stdout",
     "output_type": "stream",
     "text": [
      "(5769949, 'Locality Sensitive Hash Implementation?')\n",
      "(7489257, 'what is the meaning of Kanatype Sensitive KS and width sensitive')\n",
      "(7172117, 'Locality Preserving Hash Function')\n",
      "(21001455, 'Should a REST API be case sensitive or non case sensitive?')\n",
      "(25170063, 'Salt/Hash for Firebase Simple Login?')\n"
     ]
    }
   ],
   "source": [
    "for post_id in post_ids:\n",
    "    print(ids_titles[post_id[0]])"
   ]
  },
  {
   "cell_type": "code",
   "execution_count": 46,
   "metadata": {},
   "outputs": [
    {
     "name": "stdout",
     "output_type": "stream",
     "text": [
      "1.03 s ± 9.81 ms per loop (mean ± std. dev. of 7 runs, 1 loop each)\n"
     ]
    }
   ],
   "source": [
    "%timeit find_similar_post('python tkinter interface', post_embeddings, starspace_emb)"
   ]
  },
  {
   "cell_type": "code",
   "execution_count": 60,
   "metadata": {},
   "outputs": [
    {
     "name": "stdout",
     "output_type": "stream",
     "text": [
      "520 ms ± 15.9 ms per loop (mean ± std. dev. of 7 runs, 1 loop each)\n"
     ]
    }
   ],
   "source": [
    "%timeit search_buckets_sqlite('python tkinter interface', hash_functions, post_embeddings, con, starspace_emb)"
   ]
  },
  {
   "cell_type": "code",
   "execution_count": 62,
   "metadata": {},
   "outputs": [
    {
     "name": "stdout",
     "output_type": "stream",
     "text": [
      "120 ms ± 2.55 ms per loop (mean ± std. dev. of 7 runs, 10 loops each)\n"
     ]
    }
   ],
   "source": [
    "%timeit search_buckets_memory('python tkinter interface', hash_functions, post_embeddings, bucket_registry, starspace_emb)"
   ]
  },
  {
   "cell_type": "code",
   "execution_count": 69,
   "metadata": {},
   "outputs": [
    {
     "name": "stdout",
     "output_type": "stream",
     "text": [
      "16830842\n",
      "10876052\n",
      "14675279\n",
      "19565262\n",
      "12123479\n"
     ]
    }
   ],
   "source": [
    "for post_id in find_similar_post(\"OpenCV: 'BruteForceMatcher' : undeclared identifier\", post_embeddings, starspace_emb):\n",
    "    print(ids[post_id[0]])"
   ]
  },
  {
   "cell_type": "code",
   "execution_count": 70,
   "metadata": {},
   "outputs": [
    {
     "name": "stdout",
     "output_type": "stream",
     "text": [
      "10876052\n",
      "12123479\n",
      "36807747\n",
      "37238431\n",
      "15293220\n"
     ]
    }
   ],
   "source": [
    "for post_id in search_buckets_sqlite(\"OpenCV: 'BruteForceMatcher' : undeclared identifier\",\n",
    "                              hash_functions, post_embeddings, con, starspace_emb):\n",
    "    print(ids[post_id[0]])"
   ]
  },
  {
   "cell_type": "code",
   "execution_count": 63,
   "metadata": {},
   "outputs": [],
   "source": [
    "del ids_titles"
   ]
  },
  {
   "cell_type": "code",
   "execution_count": 66,
   "metadata": {},
   "outputs": [
    {
     "data": {
      "text/plain": [
       "[(128497200,)]"
      ]
     },
     "execution_count": 66,
     "metadata": {},
     "output_type": "execute_result"
    }
   ],
   "source": [
    "list(cur.execute('select count(*) from BucketRegistry;'))"
   ]
  },
  {
   "cell_type": "code",
   "execution_count": 72,
   "metadata": {},
   "outputs": [
    {
     "data": {
      "text/plain": [
       "(856648, 100)"
      ]
     },
     "execution_count": 72,
     "metadata": {},
     "output_type": "execute_result"
    }
   ],
   "source": [
    "post_embeddings.shape"
   ]
  },
  {
   "cell_type": "code",
   "execution_count": null,
   "metadata": {},
   "outputs": [],
   "source": []
  }
 ],
 "metadata": {
  "kernelspec": {
   "display_name": "Python 3",
   "language": "python",
   "name": "python3"
  },
  "language_info": {
   "codemirror_mode": {
    "name": "ipython",
    "version": 3
   },
   "file_extension": ".py",
   "mimetype": "text/x-python",
   "name": "python",
   "nbconvert_exporter": "python",
   "pygments_lexer": "ipython3",
   "version": "3.6.7"
  }
 },
 "nbformat": 4,
 "nbformat_minor": 2
}
