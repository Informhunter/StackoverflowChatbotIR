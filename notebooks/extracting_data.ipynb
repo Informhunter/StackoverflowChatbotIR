{
 "cells": [
  {
   "cell_type": "code",
   "execution_count": 1,
   "metadata": {},
   "outputs": [],
   "source": [
    "import re\n",
    "import numpy as np\n",
    "from zipfile import ZipFile\n",
    "import xmltodict\n",
    "from tqdm import tqdm_notebook\n",
    "import matplotlib.pyplot as plt\n",
    "import seaborn as sb\n",
    "%matplotlib inline"
   ]
  },
  {
   "cell_type": "markdown",
   "metadata": {},
   "source": [
    "# Explore Posts and Tags"
   ]
  },
  {
   "cell_type": "code",
   "execution_count": 12,
   "metadata": {},
   "outputs": [],
   "source": [
    "z = ZipFile('../data/original/Posts.zip')"
   ]
  },
  {
   "cell_type": "code",
   "execution_count": 13,
   "metadata": {},
   "outputs": [],
   "source": [
    "f = z.open('Posts.xml')"
   ]
  },
  {
   "cell_type": "code",
   "execution_count": 14,
   "metadata": {},
   "outputs": [],
   "source": [
    "for _ in range(3):\n",
    "    f.readline()"
   ]
  },
  {
   "cell_type": "code",
   "execution_count": 15,
   "metadata": {},
   "outputs": [],
   "source": [
    "filter_re = re.compile(r'(<[^>]+>)|(&[a-z]{2,5};)')"
   ]
  },
  {
   "cell_type": "code",
   "execution_count": 21,
   "metadata": {},
   "outputs": [],
   "source": [
    "token_re = re.compile(r'([a-zA-Z\\.\\-$#][0-9a-zA-Z\\.\\-$#]+[\\.\\?\\!]*)')"
   ]
  },
  {
   "cell_type": "code",
   "execution_count": 22,
   "metadata": {},
   "outputs": [],
   "source": [
    "def tokenize_body(body):\n",
    "    return token_re.findall(filter_re.sub(' ', body))"
   ]
  },
  {
   "cell_type": "code",
   "execution_count": 23,
   "metadata": {},
   "outputs": [],
   "source": [
    "def filter_body(body):\n",
    "    return ' '.join(tokenize_body(body))"
   ]
  },
  {
   "cell_type": "code",
   "execution_count": null,
   "metadata": {},
   "outputs": [],
   "source": []
  },
  {
   "cell_type": "code",
   "execution_count": null,
   "metadata": {},
   "outputs": [],
   "source": []
  },
  {
   "cell_type": "code",
   "execution_count": 50,
   "metadata": {},
   "outputs": [],
   "source": [
    "posts_min = open('../data/original/posts_min.tsv', 'w')"
   ]
  },
  {
   "cell_type": "code",
   "execution_count": 51,
   "metadata": {},
   "outputs": [
    {
     "data": {
      "application/vnd.jupyter.widget-view+json": {
       "model_id": "c79e57aa21ed42eda7a33e62dd024881",
       "version_major": 2,
       "version_minor": 0
      },
      "text/plain": [
       "HBox(children=(IntProgress(value=1, bar_style='info', max=1), HTML(value='')))"
      ]
     },
     "metadata": {},
     "output_type": "display_data"
    },
    {
     "name": "stdout",
     "output_type": "stream",
     "text": [
      "\n"
     ]
    }
   ],
   "source": [
    "buffer = []\n",
    "for line in tqdm_notebook(f):\n",
    "    try:\n",
    "        r = xmltodict.parse(f.readline())\n",
    "    except:\n",
    "        posts_min.writelines(buffer)\n",
    "        buffer = []\n",
    "        posts_min.flush()\n",
    "    \n",
    "    if r['row']['@PostTypeId'] != '1':\n",
    "        continue\n",
    "    score = r['row']['@Score']\n",
    "    post_id = r['row']['@Id']\n",
    "    tags = ''\n",
    "    if '@Tags' in r['row']:\n",
    "        tags = r['row']['@Tags']\n",
    "    \n",
    "    body_len = len(tokenize_body(r['row']['@Body']))\n",
    "    \n",
    "    buffer.append(\"{}\\t{}\\t{}\\t{}\\n\".format(post_id, score, body_len, tags))\n",
    "    if(len(buffer) >= 50000):\n",
    "        posts_min.writelines(buffer)\n",
    "        buffer = []\n",
    "        posts_min.flush()"
   ]
  },
  {
   "cell_type": "code",
   "execution_count": 62,
   "metadata": {},
   "outputs": [],
   "source": [
    "posts_min.close()"
   ]
  },
  {
   "cell_type": "code",
   "execution_count": 59,
   "metadata": {},
   "outputs": [],
   "source": [
    "import seaborn as sb"
   ]
  },
  {
   "cell_type": "code",
   "execution_count": 53,
   "metadata": {},
   "outputs": [],
   "source": [
    "import pandas as pd"
   ]
  },
  {
   "cell_type": "code",
   "execution_count": 58,
   "metadata": {},
   "outputs": [],
   "source": [
    "df = pd.read_csv('../data/original/posts_min.tsv', sep='\\t')"
   ]
  },
  {
   "cell_type": "code",
   "execution_count": 60,
   "metadata": {},
   "outputs": [
    {
     "data": {
      "text/plain": [
       "<matplotlib.axes._subplots.AxesSubplot at 0x11fa1eb4f60>"
      ]
     },
     "execution_count": 60,
     "metadata": {},
     "output_type": "execute_result"
    },
    {
     "data": {
      "image/png": "[encoded data removed]",
      "text/plain": [
       "<matplotlib.figure.Figure at 0x11fa1eb4e10>"
      ]
     },
     "metadata": {},
     "output_type": "display_data"
    }
   ],
   "source": [
    "sb.distplot(df['BodyLength'])"
   ]
  },
  {
   "cell_type": "code",
   "execution_count": null,
   "metadata": {},
   "outputs": [],
   "source": []
  },
  {
   "cell_type": "code",
   "execution_count": null,
   "metadata": {},
   "outputs": [],
   "source": []
  },
  {
   "cell_type": "code",
   "execution_count": null,
   "metadata": {},
   "outputs": [],
   "source": []
  },
  {
   "cell_type": "code",
   "execution_count": 11,
   "metadata": {},
   "outputs": [
    {
     "data": {
      "text/plain": [
       "<matplotlib.axes._subplots.AxesSubplot at 0x25c26db5358>"
      ]
     },
     "execution_count": 11,
     "metadata": {},
     "output_type": "execute_result"
    },
    {
     "data": {
      "image/png": "[encoded data removed]",
      "text/plain": [
       "<matplotlib.figure.Figure at 0x25c5145cb38>"
      ]
     },
     "metadata": {},
     "output_type": "display_data"
    }
   ],
   "source": [
    "df['Score'].plot(kind='hist', logy=True)"
   ]
  },
  {
   "cell_type": "code",
   "execution_count": 12,
   "metadata": {},
   "outputs": [],
   "source": [
    "tags = df.Tags.str.findall(r'<([^<>]+)>')"
   ]
  },
  {
   "cell_type": "code",
   "execution_count": 13,
   "metadata": {},
   "outputs": [],
   "source": [
    "from collections import Counter\n",
    "from itertools import chain"
   ]
  },
  {
   "cell_type": "code",
   "execution_count": 14,
   "metadata": {},
   "outputs": [],
   "source": [
    "tag_counts = Counter(chain(*tags.tolist()))"
   ]
  },
  {
   "cell_type": "code",
   "execution_count": 15,
   "metadata": {},
   "outputs": [
    {
     "data": {
      "text/plain": [
       "[('javascript', 863192),\n",
       " ('java', 744127),\n",
       " ('c#', 632969),\n",
       " ('php', 621838),\n",
       " ('android', 577642),\n",
       " ('python', 534459),\n",
       " ('jquery', 468400),\n",
       " ('html', 395066),\n",
       " ('c++', 298190),\n",
       " ('ios', 292366),\n",
       " ('css', 282061),\n",
       " ('mysql', 270927),\n",
       " ('sql', 233843),\n",
       " ('asp.net', 170364),\n",
       " ('ruby-on-rails', 149949),\n",
       " ('c', 144914),\n",
       " ('objective-c', 143484),\n",
       " ('arrays', 141271),\n",
       " ('.net', 138730),\n",
       " ('r', 133386),\n",
       " ('angularjs', 128523),\n",
       " ('node.js', 126312),\n",
       " ('json', 124697),\n",
       " ('sql-server', 123391),\n",
       " ('iphone', 110064),\n",
       " ('swift', 107423),\n",
       " ('ruby', 100242),\n",
       " ('regex', 99312),\n",
       " ('ajax', 97485),\n",
       " ('django', 92961),\n",
       " ('excel', 91413),\n",
       " ('xml', 89163),\n",
       " ('asp.net-mvc', 88770),\n",
       " ('linux', 85441),\n",
       " ('database', 75388),\n",
       " ('wpf', 72767),\n",
       " ('spring', 71816),\n",
       " ('wordpress', 71235),\n",
       " ('angular', 71131),\n",
       " ('vba', 67669),\n",
       " ('string', 66767),\n",
       " ('python-3.x', 66269),\n",
       " ('xcode', 64693),\n",
       " ('windows', 62758),\n",
       " ('vb.net', 60729),\n",
       " ('html5', 58628),\n",
       " ('eclipse', 57669),\n",
       " ('reactjs', 56272),\n",
       " ('multithreading', 56026),\n",
       " ('bash', 53492)]"
      ]
     },
     "execution_count": 15,
     "metadata": {},
     "output_type": "execute_result"
    }
   ],
   "source": [
    "tag_counts.most_common(50)"
   ]
  },
  {
   "cell_type": "code",
   "execution_count": 16,
   "metadata": {},
   "outputs": [],
   "source": [
    "tags_to_consider = set([x[0] for x in tag_counts.most_common(100)])"
   ]
  },
  {
   "cell_type": "code",
   "execution_count": 17,
   "metadata": {},
   "outputs": [
    {
     "data": {
      "text/plain": [
       "11619618"
      ]
     },
     "execution_count": 17,
     "metadata": {},
     "output_type": "execute_result"
    }
   ],
   "source": [
    "sum([tag_counts[tag] for tag in tags_to_consider])"
   ]
  },
  {
   "cell_type": "markdown",
   "metadata": {},
   "source": [
    "# Load Posts to DB"
   ]
  },
  {
   "cell_type": "code",
   "execution_count": 44,
   "metadata": {},
   "outputs": [],
   "source": [
    "z = ZipFile('../data/original/Posts.zip')\n",
    "f = z.open('Posts.xml')\n",
    "for _ in range(3):\n",
    "    f.readline()"
   ]
  },
  {
   "cell_type": "code",
   "execution_count": 45,
   "metadata": {},
   "outputs": [],
   "source": [
    "tags_re = re.compile(r'<([^<>]+)')\n",
    "def extract_tags(tags_text):\n",
    "    return set(tags_re.findall(tags_text))"
   ]
  },
  {
   "cell_type": "code",
   "execution_count": 46,
   "metadata": {},
   "outputs": [],
   "source": [
    "import sqlite3"
   ]
  },
  {
   "cell_type": "code",
   "execution_count": 9,
   "metadata": {},
   "outputs": [],
   "source": [
    "con = sqlite3.connect('../data/original/filtered_posts.db')"
   ]
  },
  {
   "cell_type": "code",
   "execution_count": 10,
   "metadata": {},
   "outputs": [],
   "source": [
    "cur = con.cursor()"
   ]
  },
  {
   "cell_type": "code",
   "execution_count": 11,
   "metadata": {},
   "outputs": [
    {
     "data": {
      "text/plain": [
       "<sqlite3.Cursor at 0x2384b8e4650>"
      ]
     },
     "execution_count": 11,
     "metadata": {},
     "output_type": "execute_result"
    }
   ],
   "source": [
    "cur.execute('create table Posts('\\\n",
    "            'Id int primary key,'\\\n",
    "            'Score int,'\\\n",
    "            'Title text,'\\\n",
    "            'Body text,'\n",
    "            'Tags text'\\\n",
    "            ');')"
   ]
  },
  {
   "cell_type": "code",
   "execution_count": 47,
   "metadata": {},
   "outputs": [
    {
     "data": {
      "application/vnd.jupyter.widget-view+json": {
       "model_id": "7a90402512344eb89b5f0bed5e6649a7",
       "version_major": 2,
       "version_minor": 0
      },
      "text/plain": [
       "HBox(children=(IntProgress(value=1, bar_style='info', max=1), HTML(value='')))"
      ]
     },
     "metadata": {},
     "output_type": "display_data"
    },
    {
     "name": "stdout",
     "output_type": "stream",
     "text": []
    },
    {
     "name": "stdout",
     "output_type": "stream",
     "text": [
      "14709098it [40:28, 6056.68it/s]"
     ]
    },
    {
     "ename": "OperationalError",
     "evalue": "table Posts has 5 columns but 4 values were supplied",
     "output_type": "error",
     "traceback": [
      "\u001b[1;31m---------------------------------------------------------------------------\u001b[0m",
      "\u001b[1;31mExpatError\u001b[0m                                Traceback (most recent call last)",
      "\u001b[1;32m<ipython-input-47-2719be7ed2c3>\u001b[0m in \u001b[0;36m<module>\u001b[1;34m()\u001b[0m\n\u001b[0;32m      3\u001b[0m     \u001b[1;32mtry\u001b[0m\u001b[1;33m:\u001b[0m\u001b[1;33m\u001b[0m\u001b[0m\n\u001b[1;32m----> 4\u001b[1;33m         \u001b[0mr\u001b[0m \u001b[1;33m=\u001b[0m \u001b[0mxmltodict\u001b[0m\u001b[1;33m.\u001b[0m\u001b[0mparse\u001b[0m\u001b[1;33m(\u001b[0m\u001b[0mf\u001b[0m\u001b[1;33m.\u001b[0m\u001b[0mreadline\u001b[0m\u001b[1;33m(\u001b[0m\u001b[1;33m)\u001b[0m\u001b[1;33m)\u001b[0m\u001b[1;33m\u001b[0m\u001b[0m\n\u001b[0m\u001b[0;32m      5\u001b[0m     \u001b[1;32mexcept\u001b[0m\u001b[1;33m:\u001b[0m\u001b[1;33m\u001b[0m\u001b[0m\n",
      "\u001b[1;32mc:\\data\\soft\\anaconda3\\lib\\site-packages\\xmltodict.py\u001b[0m in \u001b[0;36mparse\u001b[1;34m(xml_input, encoding, expat, process_namespaces, namespace_separator, disable_entities, **kwargs)\u001b[0m\n\u001b[0;32m    329\u001b[0m     \u001b[1;32melse\u001b[0m\u001b[1;33m:\u001b[0m\u001b[1;33m\u001b[0m\u001b[0m\n\u001b[1;32m--> 330\u001b[1;33m         \u001b[0mparser\u001b[0m\u001b[1;33m.\u001b[0m\u001b[0mParse\u001b[0m\u001b[1;33m(\u001b[0m\u001b[0mxml_input\u001b[0m\u001b[1;33m,\u001b[0m \u001b[1;32mTrue\u001b[0m\u001b[1;33m)\u001b[0m\u001b[1;33m\u001b[0m\u001b[0m\n\u001b[0m\u001b[0;32m    331\u001b[0m     \u001b[1;32mreturn\u001b[0m \u001b[0mhandler\u001b[0m\u001b[1;33m.\u001b[0m\u001b[0mitem\u001b[0m\u001b[1;33m\u001b[0m\u001b[0m\n",
      "\u001b[1;31mExpatError\u001b[0m: not well-formed (invalid token): line 1, column 1",
      "\nDuring handling of the above exception, another exception occurred:\n",
      "\u001b[1;31mOperationalError\u001b[0m                          Traceback (most recent call last)",
      "\u001b[1;32m<ipython-input-47-2719be7ed2c3>\u001b[0m in \u001b[0;36m<module>\u001b[1;34m()\u001b[0m\n\u001b[0;32m      4\u001b[0m         \u001b[0mr\u001b[0m \u001b[1;33m=\u001b[0m \u001b[0mxmltodict\u001b[0m\u001b[1;33m.\u001b[0m\u001b[0mparse\u001b[0m\u001b[1;33m(\u001b[0m\u001b[0mf\u001b[0m\u001b[1;33m.\u001b[0m\u001b[0mreadline\u001b[0m\u001b[1;33m(\u001b[0m\u001b[1;33m)\u001b[0m\u001b[1;33m)\u001b[0m\u001b[1;33m\u001b[0m\u001b[0m\n\u001b[0;32m      5\u001b[0m     \u001b[1;32mexcept\u001b[0m\u001b[1;33m:\u001b[0m\u001b[1;33m\u001b[0m\u001b[0m\n\u001b[1;32m----> 6\u001b[1;33m         \u001b[0mcur\u001b[0m\u001b[1;33m.\u001b[0m\u001b[0mexecutemany\u001b[0m\u001b[1;33m(\u001b[0m\u001b[1;34m'insert or ignore into Posts values(?, ?, ?, ?)'\u001b[0m\u001b[1;33m,\u001b[0m \u001b[0mbuffer\u001b[0m\u001b[1;33m)\u001b[0m\u001b[1;33m\u001b[0m\u001b[0m\n\u001b[0m\u001b[0;32m      7\u001b[0m         \u001b[0mcon\u001b[0m\u001b[1;33m.\u001b[0m\u001b[0mcommit\u001b[0m\u001b[1;33m(\u001b[0m\u001b[1;33m)\u001b[0m\u001b[1;33m\u001b[0m\u001b[0m\n\u001b[0;32m      8\u001b[0m         \u001b[0mbuffer\u001b[0m \u001b[1;33m=\u001b[0m \u001b[1;33m[\u001b[0m\u001b[1;33m]\u001b[0m\u001b[1;33m\u001b[0m\u001b[0m\n",
      "\u001b[1;31mOperationalError\u001b[0m: table Posts has 5 columns but 4 values were supplied"
     ]
    }
   ],
   "source": [
    "buffer = []\n",
    "for line in tqdm_notebook(f):\n",
    "    try:\n",
    "        r = xmltodict.parse(f.readline())\n",
    "    except:\n",
    "        cur.executemany('insert or ignore into Posts values(?, ?, ?, ?, ?)', buffer)\n",
    "        con.commit()\n",
    "        buffer = []\n",
    "        break     \n",
    "    \n",
    "    if r['row']['@PostTypeId'] != '1' or not '@Tags' in r['row']:\n",
    "        continue\n",
    "    \n",
    "    tags = extract_tags(r['row']['@Tags'])\n",
    "        \n",
    "    score = int(r['row']['@Score'])\n",
    "    post_id = int(r['row']['@Id'])\n",
    "    title = r['row']['@Title']\n",
    "    \n",
    "    body_tokens = tokenize_body(r['row']['@Body'])[:500]\n",
    "    body = ' '.join(body_tokens)\n",
    "    \n",
    "\n",
    "    buffer.append((post_id, score, title, body, ' '.join(tags)))\n",
    "    \n",
    "    if(len(buffer) >= 50000):\n",
    "        cur.executemany('insert or ignore into Posts values(?, ?, ?, ?, ?);', buffer)\n",
    "        con.commit()\n",
    "        buffer = []"
   ]
  },
  {
   "cell_type": "code",
   "execution_count": 50,
   "metadata": {},
   "outputs": [],
   "source": [
    "con.close()"
   ]
  },
  {
   "cell_type": "code",
   "execution_count": 51,
   "metadata": {},
   "outputs": [],
   "source": [
    "z.close()"
   ]
  },
  {
   "cell_type": "markdown",
   "metadata": {},
   "source": [
    "# Extract Duplicate and Linked Post ids"
   ]
  },
  {
   "cell_type": "code",
   "execution_count": 57,
   "metadata": {},
   "outputs": [],
   "source": [
    "from collections import defaultdict\n",
    "import pickle"
   ]
  },
  {
   "cell_type": "code",
   "execution_count": 28,
   "metadata": {},
   "outputs": [],
   "source": [
    "con = sqlite3.connect('../data/original/filtered_posts.db')\n",
    "cur = con.cursor()"
   ]
  },
  {
   "cell_type": "code",
   "execution_count": 29,
   "metadata": {},
   "outputs": [],
   "source": [
    "posts_of_interest = set([x[0] for x in cur.execute('select Id from Posts;')])"
   ]
  },
  {
   "cell_type": "code",
   "execution_count": 30,
   "metadata": {},
   "outputs": [],
   "source": [
    "z = ZipFile('../data/original/PostLinks.zip')\n",
    "f = z.open('PostLinks.xml')\n",
    "for _ in range(3):\n",
    "    f.readline()"
   ]
  },
  {
   "cell_type": "code",
   "execution_count": 31,
   "metadata": {},
   "outputs": [
    {
     "data": {
      "application/vnd.jupyter.widget-view+json": {
       "model_id": "0e87ea5d988d4f528dd17e5ca887a61d",
       "version_major": 2,
       "version_minor": 0
      },
      "text/plain": [
       "HBox(children=(IntProgress(value=1, bar_style='info', max=1), HTML(value='')))"
      ]
     },
     "metadata": {},
     "output_type": "display_data"
    },
    {
     "name": "stdout",
     "output_type": "stream",
     "text": []
    },
    {
     "name": "stdout",
     "output_type": "stream",
     "text": [
      "21424928it [42:00, 8500.64it/s]\n"
     ]
    }
   ],
   "source": [
    "similar_posts = defaultdict(set)\n",
    "for line in tqdm_notebook(f):\n",
    "    try:\n",
    "        r = xmltodict.parse(line)\n",
    "    except:\n",
    "        break\n",
    "    \n",
    "    post_id = int(r['row']['@PostId'])\n",
    "    rel_post_id = int(r['row']['@RelatedPostId'])\n",
    "    \n",
    "    if not (post_id in posts_of_interest or rel_post_id in posts_of_interest):\n",
    "        continue\n",
    "    \n",
    "    if rel_post_id in similar_posts:\n",
    "        similar_posts[rel_post_id].add(post_id)\n",
    "    else:\n",
    "        similar_posts[post_id].add(rel_post_id)"
   ]
  },
  {
   "cell_type": "code",
   "execution_count": 32,
   "metadata": {},
   "outputs": [
    {
     "data": {
      "text/plain": [
       "2121287"
      ]
     },
     "execution_count": 32,
     "metadata": {},
     "output_type": "execute_result"
    }
   ],
   "source": [
    "len(similar_posts)"
   ]
  },
  {
   "cell_type": "code",
   "execution_count": 33,
   "metadata": {},
   "outputs": [],
   "source": [
    "similar_post_lists = []\n",
    "for k, v in similar_posts.items():\n",
    "    similar_post_lists.append([k] + list(v))"
   ]
  },
  {
   "cell_type": "code",
   "execution_count": 34,
   "metadata": {},
   "outputs": [],
   "source": [
    "with open('../data/original/similar_post_ids.pkl', 'wb') as pkl_file:\n",
    "    pickle.dump(similar_post_lists, pkl_file)"
   ]
  },
  {
   "cell_type": "markdown",
   "metadata": {},
   "source": [
    "# Adding All the Duplicate and Linked Questions to the DB"
   ]
  },
  {
   "cell_type": "code",
   "execution_count": 52,
   "metadata": {},
   "outputs": [],
   "source": [
    "from itertools import chain"
   ]
  },
  {
   "cell_type": "code",
   "execution_count": 53,
   "metadata": {},
   "outputs": [],
   "source": [
    "con = sqlite3.connect('../data/original/filtered_posts.db')"
   ]
  },
  {
   "cell_type": "code",
   "execution_count": 54,
   "metadata": {},
   "outputs": [],
   "source": [
    "cur = con.cursor()"
   ]
  },
  {
   "cell_type": "code",
   "execution_count": 55,
   "metadata": {},
   "outputs": [],
   "source": [
    "z = ZipFile('../data/original/Posts.zip')\n",
    "f = z.open('Posts.xml')\n",
    "for _ in range(3):\n",
    "    f.readline()"
   ]
  },
  {
   "cell_type": "code",
   "execution_count": 58,
   "metadata": {},
   "outputs": [],
   "source": [
    "with open('../data/original/similar_post_ids.pkl', 'rb') as pkl_file:\n",
    "    similar_post_lists = pickle.load(pkl_file)"
   ]
  },
  {
   "cell_type": "code",
   "execution_count": 60,
   "metadata": {},
   "outputs": [],
   "source": [
    "post_ids_to_retreive = set(chain(*similar_post_lists))"
   ]
  },
  {
   "cell_type": "code",
   "execution_count": 61,
   "metadata": {},
   "outputs": [
    {
     "data": {
      "application/vnd.jupyter.widget-view+json": {
       "model_id": "cb51aa889e554e2cba72ae397b4c0695",
       "version_major": 2,
       "version_minor": 0
      },
      "text/plain": [
       "HBox(children=(IntProgress(value=1, bar_style='info', max=1), HTML(value='')))"
      ]
     },
     "metadata": {},
     "output_type": "display_data"
    },
    {
     "name": "stdout",
     "output_type": "stream",
     "text": [
      "\n",
      "21424922it [55:47, 6400.00it/s]"
     ]
    }
   ],
   "source": [
    "buffer = []\n",
    "for line in tqdm_notebook(f):\n",
    "    try:\n",
    "        r = xmltodict.parse(f.readline())\n",
    "    except:\n",
    "        cur.executemany('insert or ignore into Posts values(?, ?, ?, ?, ?)', buffer)\n",
    "        con.commit()\n",
    "        buffer = []\n",
    "        break\n",
    "        \n",
    "    if r['row']['@PostTypeId'] != '1' or not int(r['row']['@Id']) in post_ids_to_retreive:\n",
    "        continue\n",
    "    \n",
    "    post_id = int(r['row']['@Id'])\n",
    "    tags = extract_tags(r['row']['@Tags'])\n",
    "    score = int(r['row']['@Score'])\n",
    "    title = r['row']['@Title']\n",
    "    \n",
    "    body_tokens = tokenize_body(r['row']['@Body'])[:500]\n",
    "    body = ' '.join(body_tokens)\n",
    "\n",
    "    buffer.append((post_id, score, title, body, ' '.join(tags)))\n",
    "    \n",
    "    if(len(buffer) >= 50000):\n",
    "        cur.executemany('insert or ignore into Posts values(?, ?, ?, ?, ?);', buffer)\n",
    "        con.commit()\n",
    "        buffer = []"
   ]
  },
  {
   "cell_type": "code",
   "execution_count": 64,
   "metadata": {},
   "outputs": [],
   "source": [
    "z.close()"
   ]
  },
  {
   "cell_type": "code",
   "execution_count": 63,
   "metadata": {},
   "outputs": [],
   "source": [
    "con.close()"
   ]
  },
  {
   "cell_type": "code",
   "execution_count": 65,
   "metadata": {},
   "outputs": [],
   "source": [
    "f.close()"
   ]
  },
  {
   "cell_type": "markdown",
   "metadata": {},
   "source": [
    "# Create Embedding Training File"
   ]
  },
  {
   "cell_type": "code",
   "execution_count": 71,
   "metadata": {},
   "outputs": [],
   "source": [
    "import re\n",
    "import nltk\n",
    "from nltk.corpus import stopwords"
   ]
  },
  {
   "cell_type": "code",
   "execution_count": 129,
   "metadata": {},
   "outputs": [],
   "source": [
    "stop_en = stopwords.words('english')"
   ]
  },
  {
   "cell_type": "code",
   "execution_count": 130,
   "metadata": {},
   "outputs": [],
   "source": [
    "token_re = re.compile(r'([a-zA-Z$#][\\.\\-]*[0-9a-zA-Z\\.\\-$#]*[0-9a-zA-Z$#])')"
   ]
  },
  {
   "cell_type": "code",
   "execution_count": 131,
   "metadata": {},
   "outputs": [],
   "source": [
    "def process_text(text):\n",
    "    words = token_re.findall(text.lower())\n",
    "    return ' '.join([w for w in words if not w in stop_en])"
   ]
  },
  {
   "cell_type": "code",
   "execution_count": 132,
   "metadata": {},
   "outputs": [],
   "source": [
    "sentence_split_re = re.compile(r'[\\.\\?\\!]\\s')"
   ]
  },
  {
   "cell_type": "code",
   "execution_count": null,
   "metadata": {},
   "outputs": [],
   "source": []
  },
  {
   "cell_type": "code",
   "execution_count": 133,
   "metadata": {},
   "outputs": [],
   "source": [
    "with open('../data/original/similar_post_ids.pkl', 'rb') as pkl_file:\n",
    "    similar_post_lists = pickle.load(pkl_file)"
   ]
  },
  {
   "cell_type": "code",
   "execution_count": 134,
   "metadata": {},
   "outputs": [],
   "source": [
    "con = sqlite3.connect('../data/original/filtered_posts.db')"
   ]
  },
  {
   "cell_type": "code",
   "execution_count": 135,
   "metadata": {},
   "outputs": [],
   "source": [
    "cur = con.cursor()"
   ]
  },
  {
   "cell_type": "code",
   "execution_count": 136,
   "metadata": {},
   "outputs": [],
   "source": [
    "similar_questions_data_f = open('../data/original/similar_post_data.tsv', 'w', encoding='utf-8')"
   ]
  },
  {
   "cell_type": "code",
   "execution_count": 138,
   "metadata": {},
   "outputs": [
    {
     "data": {
      "application/vnd.jupyter.widget-view+json": {
       "model_id": "b2e6a59022bb4b2ca00364f6998428b8",
       "version_major": 2,
       "version_minor": 0
      },
      "text/plain": [
       "HBox(children=(IntProgress(value=0, max=2121287), HTML(value='')))"
      ]
     },
     "metadata": {},
     "output_type": "display_data"
    },
    {
     "name": "stdout",
     "output_type": "stream",
     "text": [
      "\n",
      "\n"
     ]
    }
   ],
   "source": [
    "buffer = []\n",
    "for link in tqdm_notebook(similar_post_lists):\n",
    "    link = map(str, link)\n",
    "    posts = list(cur.execute('select Title || \". \" || Body from Posts where Id in ({});'.format(','.join(link))))\n",
    "    \n",
    "    \n",
    "    sentences = []\n",
    "    for post in posts:\n",
    "        for sentence in sentence_split_re.split(post[0]):\n",
    "            sentences.append(process_text(sentence))\n",
    "        \n",
    "    buffer.append('\\t'.join(sentences) + '\\n')\n",
    "    if len(buffer) >= 50000:\n",
    "        similar_questions_data_f.writelines(buffer)\n",
    "        similar_questions_data_f.flush()\n",
    "        buffer = []\n",
    "\n",
    "similar_questions_data_f.writelines(buffer)\n",
    "similar_questions_data_f.flush()\n",
    "similar_questions_data_f.close()\n",
    "buffer = []\n",
    "        "
   ]
  },
  {
   "cell_type": "code",
   "execution_count": 139,
   "metadata": {},
   "outputs": [],
   "source": [
    "con.close()"
   ]
  },
  {
   "cell_type": "code",
   "execution_count": null,
   "metadata": {},
   "outputs": [],
   "source": []
  }
 ],
 "metadata": {
  "kernelspec": {
   "display_name": "Python 3",
   "language": "python",
   "name": "python3"
  },
  "language_info": {
   "codemirror_mode": {
    "name": "ipython",
    "version": 3
   },
   "file_extension": ".py",
   "mimetype": "text/x-python",
   "name": "python",
   "nbconvert_exporter": "python",
   "pygments_lexer": "ipython3",
   "version": "3.6.7"
  }
 },
 "nbformat": 4,
 "nbformat_minor": 2
}
