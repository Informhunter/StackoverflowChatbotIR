{
 "cells": [
  {
   "cell_type": "code",
   "execution_count": 1,
   "metadata": {},
   "outputs": [],
   "source": [
    "import pickle\n",
    "import numpy as np\n",
    "from importlib import reload"
   ]
  },
  {
   "cell_type": "code",
   "execution_count": 2,
   "metadata": {},
   "outputs": [
    {
     "data": {
      "text/plain": [
       "<module 'ranker' from 'C:\\\\Data\\\\Master\\\\Aalto\\\\SNLP\\\\project\\\\src\\\\ranker.py'>"
      ]
     },
     "execution_count": 2,
     "metadata": {},
     "output_type": "execute_result"
    }
   ],
   "source": [
    "import ranker\n",
    "reload(ranker)"
   ]
  },
  {
   "cell_type": "code",
   "execution_count": 9,
   "metadata": {},
   "outputs": [],
   "source": [
    "with open('../data/train/embeddings/post_ids.pkl4', 'rb') as f:\n",
    "    ids_titles = pickle.load(f)"
   ]
  },
  {
   "cell_type": "code",
   "execution_count": 4,
   "metadata": {},
   "outputs": [],
   "source": [
    "r = ranker.Ranker()"
   ]
  },
  {
   "cell_type": "code",
   "execution_count": 5,
   "metadata": {},
   "outputs": [],
   "source": [
    "r.load(\n",
    "    we_path='../data/train/embeddings/embeddings.emb.tsv',\n",
    "    pe_path='../data/train/embeddings/post_embeddings.pkl4',\n",
    "    hf_path='../data/train/embeddings/hash_functions.pkl',\n",
    "    db_path='../data/train/embeddings/bucket_registry.db',\n",
    "    idr_path='../data/train/embeddings/post_ids.pkl4'\n",
    ")"
   ]
  },
  {
   "cell_type": "code",
   "execution_count": 6,
   "metadata": {},
   "outputs": [
    {
     "name": "stdout",
     "output_type": "stream",
     "text": [
      "3.38 s ± 68.3 ms per loop (mean ± std. dev. of 7 runs, 1 loop each)\n"
     ]
    }
   ],
   "source": [
    "%timeit r.search('Get all keys in Redis database with python', 10, 'full', original_ids=False)"
   ]
  },
  {
   "cell_type": "code",
   "execution_count": 7,
   "metadata": {},
   "outputs": [
    {
     "name": "stdout",
     "output_type": "stream",
     "text": [
      "983 ms ± 18.6 ms per loop (mean ± std. dev. of 7 runs, 1 loop each)\n"
     ]
    }
   ],
   "source": [
    "%timeit r.search('Get all keys in Redis database with python', 10, 'lsh_sqlite', original_ids=False)"
   ]
  },
  {
   "cell_type": "code",
   "execution_count": 72,
   "metadata": {},
   "outputs": [],
   "source": [
    "res1 = r.search('python plotting', 10, 'full', original_ids=False)\n",
    "res2 = r.search('matplotlib plot', 10, 'full', original_ids=False)\n",
    "#res2 = r.search('Get all keys in Redis database with python', 10, 'lsh_sqlite', original_ids=False)"
   ]
  },
  {
   "cell_type": "code",
   "execution_count": 8,
   "metadata": {},
   "outputs": [
    {
     "name": "stdout",
     "output_type": "stream",
     "text": [
      "40471711\n",
      "30413473\n",
      "15946075\n",
      "13542276\n",
      "10359985\n",
      "29704445\n",
      "18647230\n",
      "26104512\n",
      "16930978\n",
      "419163\n"
     ]
    }
   ],
   "source": [
    "for x in r.search('create new thread in python', 10, 'full', original_ids=False):\n",
    "    print(ids_titles[x])\n",
    "    #if ids_titles[x][0] == 2905965:\n",
    "    #    print('HHHHHHH')"
   ]
  },
  {
   "cell_type": "code",
   "execution_count": null,
   "metadata": {},
   "outputs": [],
   "source": []
  },
  {
   "cell_type": "code",
   "execution_count": 64,
   "metadata": {},
   "outputs": [
    {
     "name": "stdout",
     "output_type": "stream",
     "text": [
      "(12249929, 'TFS Agile work board customisation')\n",
      "(1688205, 'Changing a struct inside another struct in a foreach loop')\n",
      "(12698641, 'Changing background colour for a few seconds only with jQuery')\n",
      "(3904994, 'How to select next 2 (or more than 2) items using jQuery .next()?')\n",
      "(37596049, 'Is p->next->prev the same as p?')\n",
      "(2625220, 'Why do I see MS jQuery samples use `$(domReady); `?')\n",
      "(30572605, 'ViewPager show next and before item preview on screen')\n",
      "(2678916, 'Local Variables take 7x longer to access than global variables?')\n",
      "(33602850, 'How to change the default icon of $ionicLoading')\n",
      "(5839938, 'How do I make an ASP.NET TreeView not visible using JavaScript?')\n",
      "**********\n",
      "(1688205, 'Changing a struct inside another struct in a foreach loop')\n",
      "(3130150, 'What is => operator in this code')\n",
      "(6042051, 'Why do we need a Runnable to start threads?')\n",
      "(812342, 'How to interrupt a BlockingQueue which is blocking on take()?')\n",
      "(5802340, 'Passing a pointer from JNI to Java using a long')\n",
      "(8012644, \"Call method of a runnable instance outside the runnable that is executed by the runnable's thread\")\n",
      "(17495877, 'Python - How to wait on both queue and a socket on same time')\n",
      "(8424670, 'SVN post-commit hook sending a message back to client')\n",
      "(5083765, 'Does changing f(mystruct *a) to f(const mystruct *a) breaks API/ABI in C?')\n",
      "(31152189, 'How to stop all running threads in ThreadPoolTaskExecutor?')\n"
     ]
    }
   ],
   "source": [
    "for x in res1:\n",
    "    print(ids_titles[x])\n",
    "print('*'*10)\n",
    "for x in res2:\n",
    "    print(ids_titles[x])"
   ]
  },
  {
   "cell_type": "code",
   "execution_count": null,
   "metadata": {},
   "outputs": [],
   "source": [
    "r.post_embeddings"
   ]
  },
  {
   "cell_type": "code",
   "execution_count": null,
   "metadata": {},
   "outputs": [],
   "source": []
  },
  {
   "cell_type": "code",
   "execution_count": 29,
   "metadata": {},
   "outputs": [],
   "source": [
    "title_ids_to_rename = np.random.randint(0, len(ids_titles), 100)"
   ]
  },
  {
   "cell_type": "code",
   "execution_count": 30,
   "metadata": {},
   "outputs": [],
   "source": [
    "titles_to_rename = [ids_titles[i] for i in title_ids_to_rename]"
   ]
  },
  {
   "cell_type": "code",
   "execution_count": 59,
   "metadata": {},
   "outputs": [],
   "source": [
    "def mass_search(queries, search_function):\n",
    "    return [search_function(q) for q in queries]"
   ]
  },
  {
   "cell_type": "code",
   "execution_count": 77,
   "metadata": {},
   "outputs": [
    {
     "name": "stdout",
     "output_type": "stream",
     "text": [
      "Wall time: 1min 23s\n"
     ]
    }
   ],
   "source": [
    "%%time\n",
    "results_full = mass_search([x[1] for x in titles_to_rename],\n",
    "                           lambda q: r.search(q, 10, mode='full'))"
   ]
  },
  {
   "cell_type": "code",
   "execution_count": 46,
   "metadata": {},
   "outputs": [
    {
     "name": "stdout",
     "output_type": "stream",
     "text": [
      "Wall time: 21.1 s\n"
     ]
    }
   ],
   "source": [
    "%%time\n",
    "results_lsh = mass_search([x[1] for x in titles_to_rename],\n",
    "                           lambda q: r.search(q, 10, mode='lsh_sqlite'))"
   ]
  },
  {
   "cell_type": "code",
   "execution_count": null,
   "metadata": {},
   "outputs": [],
   "source": []
  },
  {
   "cell_type": "code",
   "execution_count": 47,
   "metadata": {},
   "outputs": [],
   "source": [
    "def hits(results, expected):\n",
    "    return np.mean([1 if e in r else 0 for r, e in zip(results, expected)])"
   ]
  },
  {
   "cell_type": "code",
   "execution_count": 48,
   "metadata": {},
   "outputs": [],
   "source": [
    "def dcg(results, expected):\n",
    "    return np.mean([1 / np.log2(2 + r.index(e)) if e in r else 0 for r, e in zip(results, expected)])"
   ]
  },
  {
   "cell_type": "markdown",
   "metadata": {},
   "source": [
    "## Full"
   ]
  },
  {
   "cell_type": "code",
   "execution_count": 42,
   "metadata": {},
   "outputs": [
    {
     "data": {
      "text/plain": [
       "0.54"
      ]
     },
     "execution_count": 42,
     "metadata": {},
     "output_type": "execute_result"
    }
   ],
   "source": [
    "hits(results_full, [x[0] for x in titles_to_rename])"
   ]
  },
  {
   "cell_type": "code",
   "execution_count": 43,
   "metadata": {},
   "outputs": [
    {
     "data": {
      "text/plain": [
       "0.4718249675918753"
      ]
     },
     "execution_count": 43,
     "metadata": {},
     "output_type": "execute_result"
    }
   ],
   "source": [
    "dcg(results_full, [x[0] for x in titles_to_rename])"
   ]
  },
  {
   "cell_type": "markdown",
   "metadata": {},
   "source": [
    "## LSH"
   ]
  },
  {
   "cell_type": "code",
   "execution_count": 38,
   "metadata": {},
   "outputs": [
    {
     "data": {
      "text/plain": [
       "0.41"
      ]
     },
     "execution_count": 38,
     "metadata": {},
     "output_type": "execute_result"
    }
   ],
   "source": [
    "hits(results_lsh, [x[0] for x in titles_to_rename])"
   ]
  },
  {
   "cell_type": "code",
   "execution_count": 44,
   "metadata": {},
   "outputs": [
    {
     "data": {
      "text/plain": [
       "0.3828557852142875"
      ]
     },
     "execution_count": 44,
     "metadata": {},
     "output_type": "execute_result"
    }
   ],
   "source": [
    "dcg(results_lsh, [x[0] for x in titles_to_rename])"
   ]
  },
  {
   "cell_type": "markdown",
   "metadata": {},
   "source": [
    "## FULL"
   ]
  },
  {
   "cell_type": "code",
   "execution_count": 49,
   "metadata": {},
   "outputs": [
    {
     "data": {
      "text/plain": [
       "0.59"
      ]
     },
     "execution_count": 49,
     "metadata": {},
     "output_type": "execute_result"
    }
   ],
   "source": [
    "hits(results_full, [x[0] for x in titles_to_rename])"
   ]
  },
  {
   "cell_type": "code",
   "execution_count": 78,
   "metadata": {},
   "outputs": [
    {
     "data": {
      "text/plain": [
       "0.59"
      ]
     },
     "execution_count": 78,
     "metadata": {},
     "output_type": "execute_result"
    }
   ],
   "source": [
    "hits(results_full, [x[0] for x in titles_to_rename])"
   ]
  },
  {
   "cell_type": "code",
   "execution_count": 50,
   "metadata": {},
   "outputs": [
    {
     "data": {
      "text/plain": [
       "0.48809900316065835"
      ]
     },
     "execution_count": 50,
     "metadata": {},
     "output_type": "execute_result"
    }
   ],
   "source": [
    "dcg(results_full, [x[0] for x in titles_to_rename])"
   ]
  },
  {
   "cell_type": "code",
   "execution_count": 79,
   "metadata": {},
   "outputs": [
    {
     "data": {
      "text/plain": [
       "0.48809900316065835"
      ]
     },
     "execution_count": 79,
     "metadata": {},
     "output_type": "execute_result"
    }
   ],
   "source": [
    "dcg(results_full, [x[0] for x in titles_to_rename])"
   ]
  },
  {
   "cell_type": "markdown",
   "metadata": {},
   "source": [
    "## DCG"
   ]
  },
  {
   "cell_type": "code",
   "execution_count": 51,
   "metadata": {},
   "outputs": [
    {
     "data": {
      "text/plain": [
       "0.45"
      ]
     },
     "execution_count": 51,
     "metadata": {},
     "output_type": "execute_result"
    }
   ],
   "source": [
    "hits(results_lsh, [x[0] for x in titles_to_rename])"
   ]
  },
  {
   "cell_type": "code",
   "execution_count": 52,
   "metadata": {},
   "outputs": [
    {
     "data": {
      "text/plain": [
       "0.39579648744973717"
      ]
     },
     "execution_count": 52,
     "metadata": {},
     "output_type": "execute_result"
    }
   ],
   "source": [
    "dcg(results_lsh, [x[0] for x in titles_to_rename])"
   ]
  },
  {
   "cell_type": "code",
   "execution_count": 17,
   "metadata": {},
   "outputs": [],
   "source": [
    "import random, sqlite3"
   ]
  },
  {
   "cell_type": "code",
   "execution_count": 20,
   "metadata": {},
   "outputs": [],
   "source": [
    "con = sqlite3.connect('../data/original/filtered_posts.db')\n",
    "cur = con.cursor()"
   ]
  },
  {
   "cell_type": "code",
   "execution_count": 60,
   "metadata": {},
   "outputs": [],
   "source": [
    "from importlib import reload\n",
    "import util\n",
    "reload(util)\n",
    "from util import default_tokenizer"
   ]
  },
  {
   "cell_type": "code",
   "execution_count": 72,
   "metadata": {},
   "outputs": [
    {
     "name": "stdout",
     "output_type": "stream",
     "text": [
      "TWAIN scanning components for Delphi \t 2059343\n",
      "['need', 'add', 'twain', 'scanning', 'delphi', 'application', 'trouble', 'locating', 'off-the-shelf', 'component', 'so.', 'downloaded', 'tdelphitwain', 'used', 'd2010', 'windows', 'vista', 'appear', 'recognize', 'twain', 'sources', 'system.', 'also', 'tried', 'trial', 'version', 'twain', 'toolkit', 'delphi', 'mcm', 'advantage', 'currently', 'updated', 'delphitwain', 'last', 'update', 'twain', 'toolkit', 'even', 'compile', 'system', 'think', 'dcus', 'date', 'anyone', 'suggest', 'simple', 'method', 'getting', 'twain', 'scanning', 'delphi', 'application?']\n",
      "['using', 'vcldeveloper', 'update', 'delphitwain', 'see', 'able', 'get', 'working.', 'also', 'also', 'discovered', 'envision', 'image', 'library', 'supports', 'twain', 'scanning', 'well', 'assisting', 'handling', 'multi-page', 'tiffs', 'updated', 'compatibility', 'd2010.', 'late', 'breaking', 'update', 'vcldeveloper', 'code', 'works', 'fine.', 'however', 'settled', 'envision', 'library', 'includes', 'ability', 'easily', 'create', 'multi-page', 'tiff', 'files.', 'got', 'envision', 'scanning', 'including', 'multi-page', 'file', 'handling', 'implemented', 'hours.']\n"
     ]
    }
   ],
   "source": [
    "post_id, title = random.choice(ids_titles)\n",
    "post_id, title, body = list(cur.execute('select Id, Title, Body from Posts where Id=?', [post_id]))[0]\n",
    "print(title, '\\t', post_id)\n",
    "tokens = default_tokenizer(body)\n",
    "t_len = len(tokens)\n",
    "print(tokens[:t_len//2])\n",
    "print(tokens[t_len//2+1:])"
   ]
  },
  {
   "cell_type": "code",
   "execution_count": 64,
   "metadata": {},
   "outputs": [
    {
     "data": {
      "text/plain": [
       "'becoming crazy with calculated measure into OLAP Analytic Workspace Manager that is defined like next OLAP Expression syntax NVL CUBE.MEASURE1 DIM1 NVL CUBE.MEASURE2 DIM2 Where CUBE.MEASURE1 and CUBE.MEASURE2 are not calculated measures they are stored measures. DIM1 and DIM2 are edges of the CUBE and values both exist in their dimensions. In most of all my queries the calculated measure retrieves correct results when both members of the sum retrieves data. But other cases the calculated measure retrieves null In these cases the calculated measure retrieves null when CUBE.MEASURE2 DIM2 retrieves NO results. But expect that if any of both QDR expresions retrieves no results NVL function will replace it by was reading about it situations when QDR expressions retrieves no results by default it throws and error and not null NA value. found that exist ORACLE DML options that can manage this type of situations LIMITSTRICT NO http docs.oracle.com cd B28359 olap.111 b28126 dml options043.htm#OLADM384 OKNULLSTATUS YES http docs.oracle.com cd B28359 olap.111 b28126 dml options077.htm#OLADM418 tried to create DML Function in the AW to set both options first to NO and second to YES calling this function with OLAP DML EXPRESSION MyFUNCTION NUMBER statement but it doesn work Please need workaround of that how can catch these situations? Must create DML program to solve it? Where can set this options LIMITSTRICT OKNULLSTATUS by default and not set them in each measure calculation?'"
      ]
     },
     "execution_count": 64,
     "metadata": {},
     "output_type": "execute_result"
    }
   ],
   "source": [
    "body"
   ]
  },
  {
   "cell_type": "code",
   "execution_count": 66,
   "metadata": {},
   "outputs": [
    {
     "data": {
      "text/plain": [
       "29"
      ]
     },
     "execution_count": 66,
     "metadata": {},
     "output_type": "execute_result"
    }
   ],
   "source": [
    "t_len //2"
   ]
  },
  {
   "cell_type": "code",
   "execution_count": 70,
   "metadata": {},
   "outputs": [
    {
     "name": "stdout",
     "output_type": "stream",
     "text": [
      "['trying', 'run', 'tests', 'conversions', 'castings', 'floats', 'types', 'want', 'set', 'float', 'variable', 'different', 'values', 'nan.', 'bit-wise', 'example', 'ieee', 'floating-point', 'standard', 'single', 'precision', '-bit', 'nan', 'would', 's111', 'axx', 'xxxx', 'xxxx', 'xxxx']\n",
      "['xxxx', 'xxxx', 'sign', 'often', 'ignored', 'applications', 'determines', 'type', 'nan', 'extra', 'payload', 'often', 'ignored', 'applications', 'quiet', 'nan', 'zero', 'payload', 'nonzero', 'signaling', 'nan', 'basically', 'want', 'find', 'way', 'set', 'payload', 'xxxx', 'representation.', 'way']\n"
     ]
    }
   ],
   "source": [
    "print(tokens[:t_len//2])\n",
    "print(tokens[t_len//2:])"
   ]
  },
  {
   "cell_type": "code",
   "execution_count": null,
   "metadata": {},
   "outputs": [],
   "source": []
  }
 ],
 "metadata": {
  "kernelspec": {
   "display_name": "Python 3",
   "language": "python",
   "name": "python3"
  },
  "language_info": {
   "codemirror_mode": {
    "name": "ipython",
    "version": 3
   },
   "file_extension": ".py",
   "mimetype": "text/x-python",
   "name": "python",
   "nbconvert_exporter": "python",
   "pygments_lexer": "ipython3",
   "version": "3.6.7"
  }
 },
 "nbformat": 4,
 "nbformat_minor": 2
}
